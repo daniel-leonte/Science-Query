{
 "cells": [
  {
   "cell_type": "code",
   "execution_count": 1,
   "metadata": {},
   "outputs": [],
   "source": [
    "import arxiv\n",
    "import pandas as pd"
   ]
  },
  {
   "cell_type": "code",
   "execution_count": 16,
   "metadata": {},
   "outputs": [],
   "source": [
    "def collect_arxiv_data(category=\"cs.AI\", max_results=500):\n",
    "    # Create client and search\n",
    "    client = arxiv.Client()\n",
    "    search = arxiv.Search(\n",
    "        query=f\"cat:{category}\",\n",
    "        max_results=max_results,\n",
    "        sort_by=arxiv.SortCriterion.SubmittedDate,\n",
    "        sort_order=arxiv.SortOrder.Descending\n",
    "    )\n",
    "    \n",
    "    # Extract results into a list of dictionaries\n",
    "    data = []\n",
    "    for result in client.results(search):\n",
    "        try:\n",
    "            title = result.title\n",
    "            abstract = result.summary # arXiv calls abstracts 'summary'\n",
    "            date = result.published\n",
    "            if title and abstract and date: # Check for completeness\n",
    "                data.append({\n",
    "                    'title': title,\n",
    "                    'abstract': abstract,\n",
    "                    'date': date\n",
    "                })\n",
    "        except AttributeError:\n",
    "            print(f\"Skipping result: {result}\")\n",
    "            # Skip papers with missing data\n",
    "            pass\n",
    "    \n",
    "    # Create DataFrame from the results\n",
    "    df = pd.DataFrame(data)\n",
    "\n",
    "    # Basic Preprocessing - clean abstracts\n",
    "    df['abstract'] = df['abstract'].apply(lambda x: x.strip().lower())\n",
    "    \n",
    "    import os\n",
    "    os.makedirs('data', exist_ok=True)\n",
    "    \n",
    "    df.to_csv(f'data/arxiv_{category}_papers.csv', index=False)\n",
    "    return df"
   ]
  },
  {
   "cell_type": "code",
   "execution_count": 17,
   "metadata": {},
   "outputs": [
    {
     "name": "stdout",
     "output_type": "stream",
     "text": [
      "Collected 500 papers\n",
      "\n",
      "First few entries:\n",
      "                                               title  \\\n",
      "0  RIG: Synergizing Reasoning and Imagination in ...   \n",
      "1  UniOcc: A Unified Benchmark for Occupancy Fore...   \n",
      "2  Any2Caption:Interpreting Any Condition to Capt...   \n",
      "3  ACPBench Hard: Unrestrained Reasoning about Ac...   \n",
      "4  Harnessing the Reasoning Economy: A Survey of ...   \n",
      "\n",
      "                                            abstract                      date  \n",
      "0  reasoning before action and imagining potentia... 2025-03-31 17:59:52+00:00  \n",
      "1  we introduce uniocc, a comprehensive, unified ... 2025-03-31 17:59:24+00:00  \n",
      "2  to address the bottleneck of accurate user int... 2025-03-31 17:59:01+00:00  \n",
      "3  the acpbench dataset provides atomic reasoning... 2025-03-31 17:58:25+00:00  \n",
      "4  recent advancements in large language models (... 2025-03-31 17:58:07+00:00  \n"
     ]
    }
   ],
   "source": [
    "# Collect data for AI category\n",
    "df = collect_arxiv_data()\n",
    "\n",
    "print(f\"Collected {len(df)} papers\")\n",
    "print(\"\\nFirst few entries:\")\n",
    "print(df.head()) "
   ]
  },
  {
   "cell_type": "code",
   "execution_count": null,
   "metadata": {},
   "outputs": [],
   "source": []
  }
 ],
 "metadata": {
  "kernelspec": {
   "display_name": "ml_env",
   "language": "python",
   "name": "python3"
  },
  "language_info": {
   "codemirror_mode": {
    "name": "ipython",
    "version": 3
   },
   "file_extension": ".py",
   "mimetype": "text/x-python",
   "name": "python",
   "nbconvert_exporter": "python",
   "pygments_lexer": "ipython3",
   "version": "3.11.11"
  }
 },
 "nbformat": 4,
 "nbformat_minor": 2
}
